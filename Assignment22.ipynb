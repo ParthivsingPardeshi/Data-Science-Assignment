{
 "cells": [
  {
   "cell_type": "code",
   "execution_count": 1,
   "metadata": {},
   "outputs": [
    {
     "name": "stdout",
     "output_type": "stream",
     "text": [
      "                        Sector    2020    2021    2022    2023  Average\n",
      "0                    Jewellery  1324.0  2231.1  2195.9  2190.5   1985.4\n",
      "1                   Technology   309.0   337.2   314.8   305.2    316.5\n",
      "2                   Investment  1794.9   991.5  1112.5   945.3   1211.1\n",
      "3  Central banks & other inst.   254.9   450.1  1081.9  1049.1    709.0\n",
      "4                OTC and other  1057.7   694.0    55.7   460.0    566.9\n"
     ]
    }
   ],
   "source": [
    "import pandas as pd\n",
    "import numpy as np\n",
    "\n",
    "# Load the dataset\n",
    "file_path = 'gold_demand_sector.csv'\n",
    "df = pd.read_csv(file_path)\n",
    "\n",
    "# Clean the dataset\n",
    "# Remove empty columns\n",
    "df = df.dropna(axis=1, how='all')\n",
    "\n",
    "# Remove extra commas and convert numeric columns\n",
    "for col in df.columns[1:]:\n",
    "    df[col] = df[col].replace({',': ''}, regex=True).astype(float)\n",
    "\n",
    "# Rename columns for better readability\n",
    "df.columns = ['Sector', '2020', '2021', '2022', '2023', 'Average']\n",
    "\n",
    "# Display the cleaned dataset\n",
    "print(df.head())"
   ]
  },
  {
   "cell_type": "code",
   "execution_count": 2,
   "metadata": {
    "vscode": {
     "languageId": "ruby"
    }
   },
   "outputs": [
    {
     "name": "stdout",
     "output_type": "stream",
     "text": [
      "                        Sector    2020    2021    2022    2023  Average\n",
      "0                    Jewellery  1324.0  2231.1  2195.9  2190.5   1985.4\n",
      "1                   Technology   309.0   337.2   314.8   305.2    316.5\n",
      "2                   Investment  1794.9   991.5  1112.5   945.3   1211.1\n",
      "3  Central banks & other inst.   254.9   450.1  1081.9  1049.1    709.0\n",
      "4                OTC and other  1057.7   694.0    55.7   460.0    566.9\n",
      "5                 Total demand  4740.5  4704.0  4760.8  4950.0   4788.8\n"
     ]
    }
   ],
   "source": [
    "from scipy.stats import zscore\n",
    "\n",
    "# Calculate Z-scores for numeric columns\n",
    "numeric_cols = df.select_dtypes(include=['float64']).columns\n",
    "z_scores = df[numeric_cols].apply(zscore)\n",
    "\n",
    "# Define a threshold for Z-scores\n",
    "threshold = 3\n",
    "\n",
    "# Identify rows without outliers\n",
    "non_outliers = (z_scores.abs() < threshold).all(axis=1)\n",
    "\n",
    "# Filter the dataframe to remove outliers\n",
    "df_no_outliers = df[non_outliers]\n",
    "\n",
    "# Display the dataframe without outliers\n",
    "print(df_no_outliers)"
   ]
  },
  {
   "cell_type": "code",
   "execution_count": 3,
   "metadata": {},
   "outputs": [
    {
     "name": "stdout",
     "output_type": "stream",
     "text": [
      "Mean Squared Error: 845948.56\n"
     ]
    }
   ],
   "source": [
    "from sklearn.tree import DecisionTreeRegressor\n",
    "from sklearn.model_selection import train_test_split\n",
    "from sklearn.metrics import mean_squared_error\n",
    "\n",
    "# Define features (X) and target (y)\n",
    "X = df_no_outliers[numeric_cols.drop('Average')]\n",
    "y = df_no_outliers['Average']\n",
    "\n",
    "# Split the data into training and testing sets\n",
    "X_train, X_test, y_train, y_test = train_test_split(X, y, test_size=0.2, random_state=42)\n",
    "\n",
    "# Initialize and train the Decision Tree Regressor\n",
    "regressor = DecisionTreeRegressor(random_state=42)\n",
    "regressor.fit(X_train, y_train)\n",
    "\n",
    "# Make predictions\n",
    "y_pred = regressor.predict(X_test)\n",
    "\n",
    "# Evaluate the model\n",
    "mse = mean_squared_error(y_test, y_pred)\n",
    "print(f\"Mean Squared Error: {mse}\")"
   ]
  },
  {
   "cell_type": "code",
   "execution_count": 4,
   "metadata": {},
   "outputs": [
    {
     "name": "stdout",
     "output_type": "stream",
     "text": [
      "R-squared: -0.21490779202893107\n",
      "Mean Absolute Error: 763.4000000000001\n"
     ]
    }
   ],
   "source": [
    "from sklearn.metrics import r2_score, mean_absolute_error\n",
    "\n",
    "# Calculate R-squared\n",
    "r2 = r2_score(y_test, y_pred)\n",
    "print(f\"R-squared: {r2}\")\n",
    "\n",
    "# Calculate Mean Absolute Error\n",
    "mae = mean_absolute_error(y_test, y_pred)\n",
    "print(f\"Mean Absolute Error: {mae}\")"
   ]
  },
  {
   "cell_type": "code",
   "execution_count": null,
   "metadata": {},
   "outputs": [],
   "source": []
  }
 ],
 "metadata": {
  "kernelspec": {
   "display_name": ".venv",
   "language": "python",
   "name": "python3"
  },
  "language_info": {
   "codemirror_mode": {
    "name": "ipython",
    "version": 3
   },
   "file_extension": ".py",
   "mimetype": "text/x-python",
   "name": "python",
   "nbconvert_exporter": "python",
   "pygments_lexer": "ipython3",
   "version": "3.13.2"
  }
 },
 "nbformat": 4,
 "nbformat_minor": 2
}
