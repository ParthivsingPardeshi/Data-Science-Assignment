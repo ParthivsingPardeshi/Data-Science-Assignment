{
 "cells": [
  {
   "cell_type": "code",
   "execution_count": 14,
   "metadata": {},
   "outputs": [
    {
     "name": "stdout",
     "output_type": "stream",
     "text": [
      "                        Sector    2020    2021    2022    2023  Average\n",
      "0                    Jewellery  1324.0  2231.1  2195.9  2190.5   1985.4\n",
      "1                   Technology   309.0   337.2   314.8   305.2    316.5\n",
      "2                   Investment  1794.9   991.5  1112.5   945.3   1211.1\n",
      "3  Central banks & other inst.   254.9   450.1  1081.9  1049.1    709.0\n",
      "4                OTC and other  1057.7   694.0    55.7   460.0    566.9\n"
     ]
    }
   ],
   "source": [
    "import pandas as pd\n",
    "import numpy as np\n",
    "\n",
    "# Load the dataset\n",
    "file_path = 'e:/Parth Mca 2nd sem/Data Science/Data Science Assignment/gold_demand_sector.csv'\n",
    "df = pd.read_csv(file_path)\n",
    "\n",
    "# Rename columns for easier access\n",
    "df.columns = ['Sector', '2020', '2021', '2022', '2023', 'Average', 'Extra1', 'Extra2']\n",
    "\n",
    "# Drop unnecessary columns\n",
    "df = df.drop(columns=['Extra1', 'Extra2'])\n",
    "\n",
    "# Remove commas and convert numeric columns to float\n",
    "for col in ['2020', '2021', '2022', '2023', 'Average']:\n",
    "    df[col] = df[col].replace({',': ''}, regex=True).astype(float)\n",
    "\n",
    "# Handle missing values (if any) for numeric columns only\n",
    "numeric_cols = ['2020', '2021', '2022', '2023', 'Average']\n",
    "df[numeric_cols] = df[numeric_cols].fillna(df[numeric_cols].mean())\n",
    "\n",
    "# Display the preprocessed dataset\n",
    "print(df.head())"
   ]
  },
  {
   "cell_type": "code",
   "execution_count": 15,
   "metadata": {},
   "outputs": [],
   "source": [
    "from scipy.stats import zscore\n",
    "\n",
    "# Detect and remove outliers using Z-score\n",
    "z_scores = np.abs(df[numeric_cols].apply(zscore))\n",
    "df = df[(z_scores < 3).all(axis=1)]"
   ]
  },
  {
   "cell_type": "code",
   "execution_count": 16,
   "metadata": {},
   "outputs": [
    {
     "name": "stdout",
     "output_type": "stream",
     "text": [
      "Precision: 0.0\n",
      "Recall: 0.0\n",
      "F1-Score: 0.0\n",
      "Confusion Matrix:\n",
      "[[0 0 0 ... 0 0 0]\n",
      " [0 0 0 ... 0 0 0]\n",
      " [0 0 0 ... 0 0 0]\n",
      " ...\n",
      " [0 0 0 ... 0 0 0]\n",
      " [1 0 0 ... 0 0 0]\n",
      " [0 0 0 ... 0 0 0]]\n"
     ]
    },
    {
     "name": "stderr",
     "output_type": "stream",
     "text": [
      "e:\\Parth Mca 2nd sem\\Data Science\\Data Science Assignment\\.venv\\Lib\\site-packages\\sklearn\\metrics\\_classification.py:1565: UndefinedMetricWarning: Precision is ill-defined and being set to 0.0 in labels with no predicted samples. Use `zero_division` parameter to control this behavior.\n",
      "  _warn_prf(average, modifier, f\"{metric.capitalize()} is\", len(result))\n",
      "e:\\Parth Mca 2nd sem\\Data Science\\Data Science Assignment\\.venv\\Lib\\site-packages\\sklearn\\metrics\\_classification.py:1565: UndefinedMetricWarning: Recall is ill-defined and being set to 0.0 in labels with no true samples. Use `zero_division` parameter to control this behavior.\n",
      "  _warn_prf(average, modifier, f\"{metric.capitalize()} is\", len(result))\n"
     ]
    }
   ],
   "source": [
    "from sklearn.metrics import precision_score, recall_score, f1_score, confusion_matrix\n",
    "\n",
    "# Calculate precision, recall, and f1-score\n",
    "precision = precision_score(y_test, y_pred, average='weighted')\n",
    "recall = recall_score(y_test, y_pred, average='weighted')\n",
    "f1 = f1_score(y_test, y_pred, average='weighted')\n",
    "\n",
    "# Generate confusion matrix\n",
    "conf_matrix = confusion_matrix(y_test, y_pred)\n",
    "\n",
    "# Print the results\n",
    "print(f\"Precision: {precision}\")\n",
    "print(f\"Recall: {recall}\")\n",
    "print(f\"F1-Score: {f1}\")\n",
    "print(\"Confusion Matrix:\")\n",
    "print(conf_matrix)"
   ]
  }
 ],
 "metadata": {
  "kernelspec": {
   "display_name": ".venv",
   "language": "python",
   "name": "python3"
  },
  "language_info": {
   "codemirror_mode": {
    "name": "ipython",
    "version": 3
   },
   "file_extension": ".py",
   "mimetype": "text/x-python",
   "name": "python",
   "nbconvert_exporter": "python",
   "pygments_lexer": "ipython3",
   "version": "3.13.2"
  }
 },
 "nbformat": 4,
 "nbformat_minor": 2
}
